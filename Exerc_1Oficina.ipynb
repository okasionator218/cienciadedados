{
  "nbformat": 4,
  "nbformat_minor": 0,
  "metadata": {
    "colab": {
      "provenance": [],
      "authorship_tag": "ABX9TyNm8vxdDabjCHE27u4Qsc99",
      "include_colab_link": true
    },
    "kernelspec": {
      "name": "python3",
      "display_name": "Python 3"
    },
    "language_info": {
      "name": "python"
    }
  },
  "cells": [
    {
      "cell_type": "markdown",
      "metadata": {
        "id": "view-in-github",
        "colab_type": "text"
      },
      "source": [
        "<a href=\"https://colab.research.google.com/github/okasionator218/cienciadedados/blob/main/Exerc_1Oficina.ipynb\" target=\"_parent\"><img src=\"https://colab.research.google.com/assets/colab-badge.svg\" alt=\"Open In Colab\"/></a>"
      ]
    },
    {
      "cell_type": "code",
      "execution_count": 5,
      "metadata": {
        "colab": {
          "base_uri": "https://localhost:8080/"
        },
        "id": "LW2aMngZNzdb",
        "outputId": "b2a7ee2a-eef5-4388-b14c-337c063eb3e1"
      },
      "outputs": [
        {
          "output_type": "stream",
          "name": "stdout",
          "text": [
            "Insira a altura em cm:200\n",
            "A altura em metros é:2.0\n"
          ]
        }
      ],
      "source": [
        "#exerc. 2.1.1\n",
        "\n",
        "altura = float(input(\"Insira a altura em cm:\"))\n",
        "\n",
        "alturanova = (altura/100)\n",
        "\n",
        "print(f\"A altura em metros é:{alturanova}\")\n",
        "\n"
      ]
    },
    {
      "cell_type": "code",
      "source": [
        "#exerc. 2.1.2\n",
        "\n",
        "peso = float(input(\"Digite o peso em KG:\"))\n",
        "altura = int(input(\"Digite a altura em CM:\"))\n",
        "\n",
        "imc = (peso/(altura)**2)\n",
        "\n",
        "print(f\"Seu IMC é:{imc}\")"
      ],
      "metadata": {
        "colab": {
          "base_uri": "https://localhost:8080/"
        },
        "id": "9sqtkVcSQPNp",
        "outputId": "caa65493-cc82-4f7d-a480-da07dedf1a68"
      },
      "execution_count": 6,
      "outputs": [
        {
          "output_type": "stream",
          "name": "stdout",
          "text": [
            "Digite o peso em KG:87.3\n",
            "Digite a altura em CM:200\n",
            "Seu IMC é:0.0021825\n"
          ]
        }
      ]
    },
    {
      "cell_type": "code",
      "source": [
        "#Exerc. 2.1.3\n",
        "\n",
        "temp_f = float(input(\"Digite a temperatura em Fahrenheit:\"))\n",
        "\n",
        "temp_c = (5/9)*(temp_f - 32)\n",
        "\n",
        "print(f\"A temperatura em Celsius é:{temp_c}\")"
      ],
      "metadata": {
        "colab": {
          "base_uri": "https://localhost:8080/"
        },
        "id": "NpqTKVBGQZrj",
        "outputId": "4f88b7ee-6d5a-4483-8ae7-cfd786e02c47"
      },
      "execution_count": 7,
      "outputs": [
        {
          "output_type": "stream",
          "name": "stdout",
          "text": [
            "Digite a temperatura em Fahrenheit:69\n",
            "A temperatura em Celsius é:20.555555555555557\n"
          ]
        }
      ]
    },
    {
      "cell_type": "code",
      "source": [
        "#Exerc. 2.2.1\n",
        "\n",
        "n1 = int(input(\"Digite o primeiro número:\"))\n",
        "n2 = int(input(\"Digite o segundo número:\"))\n",
        "\n",
        "if (n1 > n2):\n",
        "      print(\"O primeiro numéro é maior\")\n",
        "else:\n",
        "      print(\"O segundo número é maior\")\n"
      ],
      "metadata": {
        "colab": {
          "base_uri": "https://localhost:8080/"
        },
        "id": "VIQNE8_lRY89",
        "outputId": "b8679c2a-3c78-4a63-9a91-7ebef7cb4177"
      },
      "execution_count": 10,
      "outputs": [
        {
          "output_type": "stream",
          "name": "stdout",
          "text": [
            "Digite o primeiro número:10\n",
            "Digite o segundo número:15\n",
            "O segundo número é maior\n"
          ]
        }
      ]
    },
    {
      "cell_type": "code",
      "source": [
        "#Exerc. 2.2.2\n",
        "\n",
        "nota1 = float(input(\"Informe a primeira nota:\"))\n",
        "nota2 = float(input(\"Informe a segunda nota:\"))\n",
        "\n",
        "media = (nota1 + nota2)/2\n",
        "\n",
        "if (media > 10):\n",
        "  print(\"Aprovado com distinção!\")\n",
        "elif (media > 6):\n",
        "  print(\"Aprovado!\")\n",
        "else:\n",
        "  print(\"Reprovado!\")"
      ],
      "metadata": {
        "colab": {
          "base_uri": "https://localhost:8080/"
        },
        "id": "pX1naDVlSxMM",
        "outputId": "199042d3-fa8c-46c8-8388-43c9988d9b0a"
      },
      "execution_count": 11,
      "outputs": [
        {
          "output_type": "stream",
          "name": "stdout",
          "text": [
            "Informe a primeira nota:5\n",
            "Informe a segunda nota:10\n",
            "Aprovado!\n"
          ]
        }
      ]
    },
    {
      "cell_type": "code",
      "source": [
        "#Exerc. 2.2.3\n",
        "\n",
        "num = int(input(\"Digite um número para o dia da semana correspondente:\"))\n",
        "\n",
        "if (num == 1):\n",
        "  print(\"Hoje é segunda.\")\n",
        "elif (num == 2):\n",
        "  print(\"Hoje é terça.\")\n",
        "elif (num == 3):\n",
        "  print(\"Hoje é quarta.\")\n",
        "elif (num == 4):\n",
        "  print(\"Hoje é quinta.\")\n",
        "elif (num == 5):\n",
        "  print(\"Hoje é sexta.\")\n",
        "elif (num == 6):\n",
        "  print(\"Hoje é sábado.\")\n",
        "elif (num == 7):\n",
        "  print(\"Hoje é domingo.\")\n",
        "else:\n",
        "  print(\"Número inválido.\")\n"
      ],
      "metadata": {
        "colab": {
          "base_uri": "https://localhost:8080/"
        },
        "id": "McvH1CWZT1Y9",
        "outputId": "ac76ce5d-67d4-4252-fcec-8aae7da14c8b"
      },
      "execution_count": 12,
      "outputs": [
        {
          "output_type": "stream",
          "name": "stdout",
          "text": [
            "Digite um número para o dia da semana correspondente:4\n",
            "Hoje é quinta.\n"
          ]
        }
      ]
    },
    {
      "cell_type": "code",
      "source": [
        "#Exerc. 2.3.1\n",
        "nota = -1\n",
        "\n",
        "while nota < 0 or nota > 10:\n",
        "    nota = float(input(\"Por favor, insira uma nota entre 0 e 10: \"))\n",
        "\n",
        "    if nota < 0 or nota > 10:\n",
        "        print(\"Valor inválido.\")\n",
        "\n",
        "print(f\"Nota válida inserida: {nota}\")"
      ],
      "metadata": {
        "colab": {
          "base_uri": "https://localhost:8080/",
          "height": 391
        },
        "id": "7wKlt9K9VIar",
        "outputId": "fbf0f6ad-bc99-47f7-ce6d-37b89abb6e28"
      },
      "execution_count": 15,
      "outputs": [
        {
          "output_type": "stream",
          "name": "stdout",
          "text": [
            "Por favor, insira uma nota entre 0 e 10: 11\n",
            "Valor inválido. Tente novamente.\n"
          ]
        },
        {
          "output_type": "error",
          "ename": "KeyboardInterrupt",
          "evalue": "Interrupted by user",
          "traceback": [
            "\u001b[0;31m---------------------------------------------------------------------------\u001b[0m",
            "\u001b[0;31mKeyboardInterrupt\u001b[0m                         Traceback (most recent call last)",
            "\u001b[0;32m<ipython-input-15-5f5c9b7dd706>\u001b[0m in \u001b[0;36m<cell line: 3>\u001b[0;34m()\u001b[0m\n\u001b[1;32m      2\u001b[0m \u001b[0;34m\u001b[0m\u001b[0m\n\u001b[1;32m      3\u001b[0m \u001b[0;32mwhile\u001b[0m \u001b[0mnota\u001b[0m \u001b[0;34m<\u001b[0m \u001b[0;36m0\u001b[0m \u001b[0;32mor\u001b[0m \u001b[0mnota\u001b[0m \u001b[0;34m>\u001b[0m \u001b[0;36m10\u001b[0m\u001b[0;34m:\u001b[0m  \u001b[0;31m# Loop continua até que uma nota válida seja inserida\u001b[0m\u001b[0;34m\u001b[0m\u001b[0;34m\u001b[0m\u001b[0m\n\u001b[0;32m----> 4\u001b[0;31m     \u001b[0mnota\u001b[0m \u001b[0;34m=\u001b[0m \u001b[0mfloat\u001b[0m\u001b[0;34m(\u001b[0m\u001b[0minput\u001b[0m\u001b[0;34m(\u001b[0m\u001b[0;34m\"Por favor, insira uma nota entre 0 e 10: \"\u001b[0m\u001b[0;34m)\u001b[0m\u001b[0;34m)\u001b[0m\u001b[0;34m\u001b[0m\u001b[0;34m\u001b[0m\u001b[0m\n\u001b[0m\u001b[1;32m      5\u001b[0m \u001b[0;34m\u001b[0m\u001b[0m\n\u001b[1;32m      6\u001b[0m     \u001b[0;32mif\u001b[0m \u001b[0mnota\u001b[0m \u001b[0;34m<\u001b[0m \u001b[0;36m0\u001b[0m \u001b[0;32mor\u001b[0m \u001b[0mnota\u001b[0m \u001b[0;34m>\u001b[0m \u001b[0;36m10\u001b[0m\u001b[0;34m:\u001b[0m\u001b[0;34m\u001b[0m\u001b[0;34m\u001b[0m\u001b[0m\n",
            "\u001b[0;32m/usr/local/lib/python3.10/dist-packages/ipykernel/kernelbase.py\u001b[0m in \u001b[0;36mraw_input\u001b[0;34m(self, prompt)\u001b[0m\n\u001b[1;32m    849\u001b[0m                 \u001b[0;34m\"raw_input was called, but this frontend does not support input requests.\"\u001b[0m\u001b[0;34m\u001b[0m\u001b[0;34m\u001b[0m\u001b[0m\n\u001b[1;32m    850\u001b[0m             )\n\u001b[0;32m--> 851\u001b[0;31m         return self._input_request(str(prompt),\n\u001b[0m\u001b[1;32m    852\u001b[0m             \u001b[0mself\u001b[0m\u001b[0;34m.\u001b[0m\u001b[0m_parent_ident\u001b[0m\u001b[0;34m,\u001b[0m\u001b[0;34m\u001b[0m\u001b[0;34m\u001b[0m\u001b[0m\n\u001b[1;32m    853\u001b[0m             \u001b[0mself\u001b[0m\u001b[0;34m.\u001b[0m\u001b[0m_parent_header\u001b[0m\u001b[0;34m,\u001b[0m\u001b[0;34m\u001b[0m\u001b[0;34m\u001b[0m\u001b[0m\n",
            "\u001b[0;32m/usr/local/lib/python3.10/dist-packages/ipykernel/kernelbase.py\u001b[0m in \u001b[0;36m_input_request\u001b[0;34m(self, prompt, ident, parent, password)\u001b[0m\n\u001b[1;32m    893\u001b[0m             \u001b[0;32mexcept\u001b[0m \u001b[0mKeyboardInterrupt\u001b[0m\u001b[0;34m:\u001b[0m\u001b[0;34m\u001b[0m\u001b[0;34m\u001b[0m\u001b[0m\n\u001b[1;32m    894\u001b[0m                 \u001b[0;31m# re-raise KeyboardInterrupt, to truncate traceback\u001b[0m\u001b[0;34m\u001b[0m\u001b[0;34m\u001b[0m\u001b[0m\n\u001b[0;32m--> 895\u001b[0;31m                 \u001b[0;32mraise\u001b[0m \u001b[0mKeyboardInterrupt\u001b[0m\u001b[0;34m(\u001b[0m\u001b[0;34m\"Interrupted by user\"\u001b[0m\u001b[0;34m)\u001b[0m \u001b[0;32mfrom\u001b[0m \u001b[0;32mNone\u001b[0m\u001b[0;34m\u001b[0m\u001b[0;34m\u001b[0m\u001b[0m\n\u001b[0m\u001b[1;32m    896\u001b[0m             \u001b[0;32mexcept\u001b[0m \u001b[0mException\u001b[0m \u001b[0;32mas\u001b[0m \u001b[0me\u001b[0m\u001b[0;34m:\u001b[0m\u001b[0;34m\u001b[0m\u001b[0;34m\u001b[0m\u001b[0m\n\u001b[1;32m    897\u001b[0m                 \u001b[0mself\u001b[0m\u001b[0;34m.\u001b[0m\u001b[0mlog\u001b[0m\u001b[0;34m.\u001b[0m\u001b[0mwarning\u001b[0m\u001b[0;34m(\u001b[0m\u001b[0;34m\"Invalid Message:\"\u001b[0m\u001b[0;34m,\u001b[0m \u001b[0mexc_info\u001b[0m\u001b[0;34m=\u001b[0m\u001b[0;32mTrue\u001b[0m\u001b[0;34m)\u001b[0m\u001b[0;34m\u001b[0m\u001b[0;34m\u001b[0m\u001b[0m\n",
            "\u001b[0;31mKeyboardInterrupt\u001b[0m: Interrupted by user"
          ]
        }
      ]
    },
    {
      "cell_type": "code",
      "source": [
        "#Exerc. 2.3.2\n",
        "i = 0\n",
        "\n",
        "for i in range(0,21):\n",
        "  print(i)\n",
        "\n",
        "for i in range(0,21):\n",
        "  print(i, end = \",\")"
      ],
      "metadata": {
        "colab": {
          "base_uri": "https://localhost:8080/"
        },
        "id": "47tZASNkazks",
        "outputId": "8652afac-c1bf-4f59-9f69-2384b77ecd58"
      },
      "execution_count": 19,
      "outputs": [
        {
          "output_type": "stream",
          "name": "stdout",
          "text": [
            "0\n",
            "1\n",
            "2\n",
            "3\n",
            "4\n",
            "5\n",
            "6\n",
            "7\n",
            "8\n",
            "9\n",
            "10\n",
            "11\n",
            "12\n",
            "13\n",
            "14\n",
            "15\n",
            "16\n",
            "17\n",
            "18\n",
            "19\n",
            "20\n",
            "0,1,2,3,4,5,6,7,8,9,10,11,12,13,14,15,16,17,18,19,20,"
          ]
        }
      ]
    },
    {
      "cell_type": "code",
      "source": [
        "#Exerc. 2.3.3\n",
        "i = 0\n",
        "numero = int(input(\"Digite um número para sua tabuada ser calculada:\"))\n",
        "print(f\"A tabuada do {numero} é:\")\n",
        "\n",
        "for i in range(0,11):\n",
        "  multi = numero*i\n",
        "  print(f\"{numero} x {i} = {multi}\")"
      ],
      "metadata": {
        "colab": {
          "base_uri": "https://localhost:8080/"
        },
        "id": "Qq_8yc5fcNUi",
        "outputId": "a9dabd2b-371f-4e85-b5e0-1d5cffba3ac4"
      },
      "execution_count": 22,
      "outputs": [
        {
          "output_type": "stream",
          "name": "stdout",
          "text": [
            "Digite um número para sua tabuada ser calculada:6\n",
            "A tabuada do 6 é:\n",
            "6 x 0 = 0\n",
            "6 x 1 = 6\n",
            "6 x 2 = 12\n",
            "6 x 3 = 18\n",
            "6 x 4 = 24\n",
            "6 x 5 = 30\n",
            "6 x 6 = 36\n",
            "6 x 7 = 42\n",
            "6 x 8 = 48\n",
            "6 x 9 = 54\n",
            "6 x 10 = 60\n"
          ]
        }
      ]
    }
  ]
}